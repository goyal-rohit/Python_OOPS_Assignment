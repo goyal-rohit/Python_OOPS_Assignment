{
 "cells": [
  {
   "cell_type": "markdown",
   "id": "753486c0-960a-435a-b483-e0dc3fa42825",
   "metadata": {},
   "source": [
    "Q1. Explain Class and Object with respect to Object-Oriented Programming. Give a suitable example."
   ]
  },
  {
   "cell_type": "markdown",
   "id": "40e6147a-0573-488f-a053-b279b5e928f9",
   "metadata": {},
   "source": [
    "A class is a blueprint for creating objects. It is a user-defined data type that can have attributes (variables) and methods (functions). In Python, you define a class using the class keyword, followed by the name of the class.\n",
    "Object is an instance of the class, the implementation of the blue print of the class, a real world entity. Once you have created an object, you can call its methods and access its attributes using dot notation."
   ]
  },
  {
   "cell_type": "code",
   "execution_count": 10,
   "id": "e50b20a2-67b3-4cad-ae5a-69b3ac70a16b",
   "metadata": {
    "tags": []
   },
   "outputs": [],
   "source": [
    "class new_class:\n",
    "    def welcome_msg(self):\n",
    "        print(\"Welcome Welcome\")"
   ]
  },
  {
   "cell_type": "code",
   "execution_count": 12,
   "id": "48d818e8-c1d0-4708-8473-7809f0edd544",
   "metadata": {},
   "outputs": [],
   "source": [
    "rohit = new_class()"
   ]
  },
  {
   "cell_type": "code",
   "execution_count": 13,
   "id": "9cfb95af-e5cb-4161-adf7-fa52d5e3648a",
   "metadata": {},
   "outputs": [
    {
     "name": "stdout",
     "output_type": "stream",
     "text": [
      "Welcome Welcome\n"
     ]
    }
   ],
   "source": [
    "rohit.welcome_msg()"
   ]
  },
  {
   "cell_type": "markdown",
   "id": "e1889883-ff3a-43b7-9efe-16c2983f781d",
   "metadata": {},
   "source": [
    "Q2. Name the four pillars of OOPs."
   ]
  },
  {
   "cell_type": "markdown",
   "id": "82fa9b27-fe1f-488e-9a8b-a0364bdb8691",
   "metadata": {},
   "source": [
    "The four pillars of Object-Oriented Programming (OOP) are:\n",
    "\n",
    "1. Encapsulation: This is the process of hiding the internal details of an object and providing access only through a well-defined interface. It involves combining data and methods into a single unit (class) and controlling access to the data through the methods.\n",
    "\n",
    "2. Inheritance: This is the ability of a class to inherit properties and methods from a parent class. It allows you to create a new class that is a modified version of an existing class.\n",
    "\n",
    "3. Polymorphism: This is the ability of objects to take on many forms. It allows you to use a single interface to represent multiple types of objects.\n",
    "\n",
    "4. Abstraction: This is the process of representing complex real-world objects using simpler and more abstract models. It involves identifying the essential characteristics of an object and ignoring the non-essential details."
   ]
  },
  {
   "cell_type": "markdown",
   "id": "c8a95f04-ac98-468c-9563-808e0181e474",
   "metadata": {},
   "source": [
    "Q3. Explain why the __init__() function is used. Give a suitable example."
   ]
  },
  {
   "cell_type": "markdown",
   "id": "2c40b7c4-6311-49a4-9a9b-eec96ee3b73d",
   "metadata": {},
   "source": [
    "The '__init__' method is a special inbuilt method that is called when a new instance of the class is created. It takes self as the first parameter, which refers to the new instance of the class. It is also called the constructor of the class"
   ]
  },
  {
   "cell_type": "code",
   "execution_count": 7,
   "id": "91de70a1-bc70-4527-9f33-dd060cd1decb",
   "metadata": {
    "tags": []
   },
   "outputs": [],
   "source": [
    "class Person:                    #Class\n",
    "    def __init__(self, name, age):\n",
    "        self.name = name\n",
    "        self.age = age\n",
    "\n",
    "    def say_hello(self):\n",
    "        print(f\"Hello, my name is {self.name} and I am {self.age} years old.\")"
   ]
  },
  {
   "cell_type": "code",
   "execution_count": 8,
   "id": "4714547a-1df5-4f7c-a0f3-95d94afeeeff",
   "metadata": {},
   "outputs": [],
   "source": [
    "person1 = Person(\"Rohit\", 30)   #Object"
   ]
  },
  {
   "cell_type": "code",
   "execution_count": 9,
   "id": "cb7c661f-be14-407b-9a61-f4d64a846cf5",
   "metadata": {},
   "outputs": [
    {
     "name": "stdout",
     "output_type": "stream",
     "text": [
      "Hello, my name is Rohit and I am 30 years old.\n"
     ]
    }
   ],
   "source": [
    "person1.say_hello()"
   ]
  },
  {
   "cell_type": "markdown",
   "id": "3027c31d-aa03-462c-835f-19ce8b0132ee",
   "metadata": {},
   "source": [
    "Q4. Why self is used in OOPs?"
   ]
  },
  {
   "cell_type": "markdown",
   "id": "e4540fff-0454-4edb-b1f2-f5da5d3ea99c",
   "metadata": {},
   "source": [
    "In Python, self is a special keyword that refers to the instance of a class. When you define a method in a class, you must always include self as the first parameter of the method. This is a way of telling Python that the method belongs to the instance of the class."
   ]
  },
  {
   "cell_type": "markdown",
   "id": "72475f8b-e4ee-49bc-a311-58d18656e50c",
   "metadata": {},
   "source": [
    "Q5. What is inheritance? Give an example for each type of inheritance."
   ]
  },
  {
   "cell_type": "markdown",
   "id": "44dcf964-d164-4aaa-98fd-c3d944b80c88",
   "metadata": {},
   "source": [
    "Inheritance: This is the ability of a class to inherit properties and methods from a parent class. It allows you to create a new class that is a modified version of an existing class.\n"
   ]
  },
  {
   "cell_type": "markdown",
   "id": "1f4d2d6c-251e-4984-be16-c589bb211d97",
   "metadata": {},
   "source": [
    "In Python, there are five types of inheritance:\n",
    "\n",
    "1. Single inheritance: In single inheritance, a derived class is created from a single base (or parent) class. It means that one class is derived from one and only one base class.\n",
    "2. Multiple inheritance: In multiple inheritance, a derived class is created from two or more base classes. It means that one class is derived from more than one base class.\n",
    "3. Multi-level inheritance: In multi-level inheritance, a derived class is created from a base class, which is itself derived from another base class. It means that one class is derived from a base class, which is itself derived from another base class.\n",
    "4. Hierarchical inheritance: In hierarchical inheritance, multiple derived classes are created from a single base class. It means that multiple classes are derived from a single base class.\n",
    "5. Hybrid inheritance: Hybrid inheritance is a combination of multiple inheritance and multi-level inheritance. It means that one class is derived from two or more base classes, and one of the base classes is derived from another base class."
   ]
  },
  {
   "cell_type": "code",
   "execution_count": null,
   "id": "b127ed01-d032-4f33-bca7-838164deb0d9",
   "metadata": {},
   "outputs": [],
   "source": []
  }
 ],
 "metadata": {
  "kernelspec": {
   "display_name": "Python 3 (ipykernel)",
   "language": "python",
   "name": "python3"
  },
  "language_info": {
   "codemirror_mode": {
    "name": "ipython",
    "version": 3
   },
   "file_extension": ".py",
   "mimetype": "text/x-python",
   "name": "python",
   "nbconvert_exporter": "python",
   "pygments_lexer": "ipython3",
   "version": "3.9.13"
  }
 },
 "nbformat": 4,
 "nbformat_minor": 5
}
